{
 "cells": [
  {
   "cell_type": "markdown",
   "metadata": {},
   "source": [
    "# Artificial Intelligence at XelpMoc\n",
    "## Machine Translation Project (Transliteration b/w English and Bengali)\n",
    "\n",
    "## Introduction\n",
    "In this notebook, we will build a deep neural network that functions as part of an end-to-end machine translation pipeline. Your completed pipeline will transliterate between English and Bengali words.\n",
    "\n",
    "- **Preprocess** - We convert text to sequence of integers.\n",
    "- **Models** - Create models which accepts a sequence of integers as input and returns a probability distribution over possible translations. After learning about the basic types of neural networks that are often used for machine translation, we will engage in your own investigations, to design your own model!\n",
    "- **Prediction** - Run the model on Bengali text."
   ]
  },
  {
   "cell_type": "code",
   "execution_count": 1,
   "metadata": {},
   "outputs": [],
   "source": [
    "%load_ext autoreload\n",
    "%aimport helper, tests\n",
    "%autoreload 1"
   ]
  },
  {
   "cell_type": "code",
   "execution_count": 2,
   "metadata": {},
   "outputs": [
    {
     "name": "stderr",
     "output_type": "stream",
     "text": [
      "Using TensorFlow backend.\n"
     ]
    }
   ],
   "source": [
    "import collections\n",
    "\n",
    "import helper\n",
    "import numpy as np\n",
    "import project_tests as tests\n",
    "import random\n",
    "\n",
    "from keras.preprocessing.text import Tokenizer\n",
    "from keras.preprocessing.sequence import pad_sequences\n",
    "from keras.models import Model, Sequential\n",
    "from keras.layers import GRU, Input, Dense, TimeDistributed, Activation, RepeatVector, Bidirectional, Dropout, LSTM\n",
    "from keras.layers.embeddings import Embedding\n",
    "from keras.optimizers import Adam\n",
    "from keras.losses import sparse_categorical_crossentropy"
   ]
  },
  {
   "cell_type": "markdown",
   "metadata": {},
   "source": [
    "### Verify access to the GPU\n",
    "The following test applies only if we expect to be using a GPU."
   ]
  },
  {
   "cell_type": "code",
   "execution_count": 3,
   "metadata": {},
   "outputs": [
    {
     "name": "stdout",
     "output_type": "stream",
     "text": [
      "Default GPU Device: /device:GPU:0\n"
     ]
    }
   ],
   "source": [
    "import tensorflow as tf\n",
    "if tf.test.gpu_device_name():\n",
    "    print('Default GPU Device: {}'.format(tf.test.gpu_device_name()))\n",
    "else:\n",
    "   print(\"Please install GPU version of TF\")"
   ]
  },
  {
   "cell_type": "code",
   "execution_count": 4,
   "metadata": {},
   "outputs": [
    {
     "name": "stdout",
     "output_type": "stream",
     "text": [
      "[name: \"/device:CPU:0\"\n",
      "device_type: \"CPU\"\n",
      "memory_limit: 268435456\n",
      "locality {\n",
      "}\n",
      "incarnation: 7237073927242562421\n",
      ", name: \"/device:XLA_GPU:0\"\n",
      "device_type: \"XLA_GPU\"\n",
      "memory_limit: 17179869184\n",
      "locality {\n",
      "}\n",
      "incarnation: 16762086471525907002\n",
      "physical_device_desc: \"device: XLA_GPU device\"\n",
      ", name: \"/device:XLA_CPU:0\"\n",
      "device_type: \"XLA_CPU\"\n",
      "memory_limit: 17179869184\n",
      "locality {\n",
      "}\n",
      "incarnation: 8785088582223683161\n",
      "physical_device_desc: \"device: XLA_CPU device\"\n",
      ", name: \"/device:GPU:0\"\n",
      "device_type: \"GPU\"\n",
      "memory_limit: 14796708250\n",
      "locality {\n",
      "  bus_id: 1\n",
      "  links {\n",
      "  }\n",
      "}\n",
      "incarnation: 16055110666083531576\n",
      "physical_device_desc: \"device: 0, name: Tesla T4, pci bus id: 0000:00:04.0, compute capability: 7.5\"\n",
      "]\n"
     ]
    }
   ],
   "source": [
    "from tensorflow.python.client import device_lib\n",
    "print(device_lib.list_local_devices())"
   ]
  },
  {
   "cell_type": "markdown",
   "metadata": {},
   "source": [
    "## Dataset\n",
    "We begin by investigating the dataset that will be used to train and evaluate your pipeline. However, that will take a long time to train a neural network on.  We'll be using a dataset we created for this project that contains a small number of pair.  We'll be able to train your model in a reasonable time with this dataset.\n",
    "\n",
    "### Load Data\n",
    "The data is located in `data/neural_test_bengali.txt` and `data/neural_test_english.txt`. The `neural_test_english` file contains English words with their Bengali transliterations in the `neural_test_bengali` file. We load the English and Bengali data from these files from running the cell below."
   ]
  },
  {
   "cell_type": "code",
   "execution_count": 5,
   "metadata": {},
   "outputs": [
    {
     "name": "stdout",
     "output_type": "stream",
     "text": [
      "Dataset Loaded\n"
     ]
    }
   ],
   "source": [
    "# Load English data\n",
    "english_words = helper.load_data('data/neural_english.txt')\n",
    "# Load Bengali data\n",
    "bengali_words = helper.load_data('data/neural_bengali.txt')\n",
    "\n",
    "print('Dataset Loaded')"
   ]
  },
  {
   "cell_type": "markdown",
   "metadata": {},
   "source": [
    "### Files\n",
    "Each line in `neural_test_english.txt` contains an English word with the respective transliteration in each line of `neural_test_bengali.txt`.  View the first two lines from each file.\n"
   ]
  },
  {
   "cell_type": "code",
   "execution_count": 6,
   "metadata": {},
   "outputs": [
    {
     "name": "stdout",
     "output_type": "stream",
     "text": [
      "English sample 1:  R A M A N A T H\n",
      "Bengali sample 1:  র া ম া ন া থ\n",
      "\n",
      "English sample 2:  R O Y\n",
      "Bengali sample 2:  র া য়\n",
      "\n",
      "English sample 3:  S U S I L A\n",
      "Bengali sample 3:  স ু শ ি ল া\n",
      "\n",
      "English sample 4:  R O Y\n",
      "Bengali sample 4:  র া য়\n",
      "\n",
      "English sample 5:  S A K U N T A L A\n",
      "Bengali sample 5:  শ ক ু ন ্ ত ল া\n",
      "\n"
     ]
    }
   ],
   "source": [
    "for sample_i in range(5):\n",
    "    print('English sample {}:  {}'.format(sample_i + 1, english_words[sample_i]))\n",
    "    print('Bengali sample {}:  {}\\n'.format(sample_i + 1, bengali_words[sample_i]))"
   ]
  },
  {
   "cell_type": "markdown",
   "metadata": {},
   "source": [
    "From looking at the sentences, we can see they have been preprocessed already. All the text have been converted to uppercase.  This should save us some time, but the text requires more preprocessing.\n",
    "\n",
    "### Vocabulary\n",
    "The complexity of the problem is determined by the complexity of the vocabulary.  A more complex vocabulary is a more complex problem.  Let's look at the complexity of the dataset we'll be working with."
   ]
  },
  {
   "cell_type": "code",
   "execution_count": 7,
   "metadata": {},
   "outputs": [
    {
     "name": "stdout",
     "output_type": "stream",
     "text": [
      "2575637 English words.\n",
      "2575637 Bengali words.\n"
     ]
    }
   ],
   "source": [
    "english_words_counter = len(english_words)\n",
    "bengali_words_counter = len(bengali_words)\n",
    "\n",
    "print('{} English words.'.format(english_words_counter))\n",
    "print('{} Bengali words.'.format(bengali_words_counter))"
   ]
  },
  {
   "cell_type": "markdown",
   "metadata": {},
   "source": [
    "## Preprocess\n",
    "For this project, we won't use text data as input to your model. Instead, we'll convert the text into sequences of integers using the following preprocess methods:\n",
    "1. Tokenize the words into ids\n",
    "2. Add padding to make all the sequences the same length.\n",
    "\n",
    "Time to start preprocessing the data...\n",
    "\n",
    "### Tokenize\n",
    "For a neural network to predict on text data, it first has to be turned into data it can understand. Text data like \"dog\" is a sequence of ASCII character encodings.  Since a neural network is a series of multiplication and addition operations, the input data needs to be number(s).\n",
    "\n",
    "We can turn each character into a number or each word into a number.  These are called character and word ids, respectively.  Character ids are used for character level models that generate text predictions for each character.  A word level model uses word ids that generate text predictions for each word.  Word level models tend to learn better, since they are lower in complexity, so we'll use those.\n",
    "\n",
    "Turn each sentence into a sequence of words ids using Keras's [`Tokenizer`](https://keras.io/preprocessing/text/#tokenizer) function. We use this function to tokenize `english_words` and `bengali_words` in the cell below.\n",
    "\n",
    "Running the cell will run `tokenize` on sample data and show output for debugging."
   ]
  },
  {
   "cell_type": "code",
   "execution_count": 8,
   "metadata": {},
   "outputs": [],
   "source": [
    "def tokenize(x):\n",
    "    \"\"\"\n",
    "    Tokenize x\n",
    "    :param x: List of sentences/strings to be tokenized\n",
    "    :return: Tuple of (tokenized x data, tokenizer used to tokenize x)\n",
    "    \"\"\"\n",
    "    # TODO: Implement\n",
    "    tokenizer = Tokenizer()\n",
    "    tokenizer.fit_on_texts(x)\n",
    "    return tokenizer.texts_to_sequences(x), tokenizer\n",
    "\n",
    "tests.test_tokenize(tokenize)"
   ]
  },
  {
   "cell_type": "markdown",
   "metadata": {},
   "source": [
    "### Padding\n",
    "When batching the sequence of word ids together, each sequence needs to be the same length.  Since sentences are dynamic in length, we can add padding to the end of the sequences to make them the same length.\n",
    "\n",
    "Make sure all the English sequences have the same length and all the Bengali sequences have the same length by adding padding to the **end** of each sequence using Keras's [`pad_sequences`](https://keras.io/preprocessing/sequence/#pad_sequences) function."
   ]
  },
  {
   "cell_type": "code",
   "execution_count": 9,
   "metadata": {},
   "outputs": [],
   "source": [
    "def pad(x, length=None):\n",
    "    \"\"\"\n",
    "    Pad x\n",
    "    :param x: List of sequences.\n",
    "    :param length: Length to pad the sequence to.  If None, use length of longest sequence in x.\n",
    "    :return: Padded numpy array of sequences\n",
    "    \"\"\"\n",
    "    # TODO: Implement\n",
    "    return pad_sequences(x, maxlen=length, padding='post')\n",
    "\n",
    "tests.test_pad(pad)"
   ]
  },
  {
   "cell_type": "markdown",
   "metadata": {},
   "source": [
    "### Preprocess Pipeline\n",
    "Our focus for this project is to build neural network architecture, so we won't be creating a preprocess pipeline.  Instead, we've created an implementation of the `preprocess` function."
   ]
  },
  {
   "cell_type": "code",
   "execution_count": 10,
   "metadata": {},
   "outputs": [
    {
     "name": "stdout",
     "output_type": "stream",
     "text": [
      "Data Preprocessed\n",
      "Max English sentence length: 22\n",
      "Max Bengali sentence length: 25\n",
      "English vocabulary size: 27\n",
      "Bengali vocabulary size: 79\n"
     ]
    }
   ],
   "source": [
    "def preprocess(x, y):\n",
    "    \"\"\"\n",
    "    Preprocess x and y\n",
    "    :param x: Feature List of sentences\n",
    "    :param y: Label List of sentences\n",
    "    :return: Tuple of (Preprocessed x, Preprocessed y, x tokenizer, y tokenizer)\n",
    "    \"\"\"\n",
    "    preprocess_x, x_tk = tokenize(x)\n",
    "    preprocess_y, y_tk = tokenize(y)\n",
    "\n",
    "    preprocess_x = pad(preprocess_x)\n",
    "    preprocess_y = pad(preprocess_y)\n",
    "\n",
    "    # Keras's sparse_categorical_crossentropy function requires the labels to be in 3 dimensions\n",
    "    preprocess_y = preprocess_y.reshape(*preprocess_y.shape, 1)\n",
    "\n",
    "    return preprocess_x, preprocess_y, x_tk, y_tk\n",
    "\n",
    "preproc_bengali_words, preproc_english_words, bengali_tokenizer, english_tokenizer =\\\n",
    "    preprocess(bengali_words, english_words)\n",
    "    \n",
    "max_english_sequence_length = preproc_english_words.shape[1]\n",
    "max_bengali_sequence_length = preproc_bengali_words.shape[1]\n",
    "english_vocab_size = len(english_tokenizer.word_index)\n",
    "bengali_vocab_size = len(bengali_tokenizer.word_index)\n",
    "\n",
    "print('Data Preprocessed')\n",
    "print(\"Max English sentence length:\", max_english_sequence_length)\n",
    "print(\"Max Bengali sentence length:\", max_bengali_sequence_length)\n",
    "print(\"English vocabulary size:\", english_vocab_size)\n",
    "print(\"Bengali vocabulary size:\", bengali_vocab_size)"
   ]
  },
  {
   "cell_type": "markdown",
   "metadata": {},
   "source": [
    "### Ids Back to Text\n",
    "The neural network will be translating the input to words ids, which isn't the final form we want.  We want the English transliteration.  The function `logits_to_text` will bridge the gab between the logits from the neural network to the English transliteration.  We'll be using this function to better understand the output of the neural network."
   ]
  },
  {
   "cell_type": "code",
   "execution_count": 11,
   "metadata": {},
   "outputs": [
    {
     "name": "stdout",
     "output_type": "stream",
     "text": [
      "`logits_to_text` function loaded.\n"
     ]
    }
   ],
   "source": [
    "def logits_to_text(logits, tokenizer):\n",
    "    \"\"\"\n",
    "    Turn logits from a neural network into text using the tokenizer\n",
    "    :param logits: Logits from a neural network\n",
    "    :param tokenizer: Keras Tokenizer fit on the labels\n",
    "    :return: String that represents the text of the logits\n",
    "    \"\"\"\n",
    "    index_to_words = {id: word for word, id in tokenizer.word_index.items()}\n",
    "    index_to_words[0] = '<PAD>'\n",
    "\n",
    "    return ' '.join([index_to_words[prediction] for prediction in np.argmax(logits, 1)])\n",
    "\n",
    "print('`logits_to_text` function loaded.')"
   ]
  },
  {
   "cell_type": "markdown",
   "metadata": {},
   "source": [
    "### Changes the sparse categorical accuracy to prevent error"
   ]
  },
  {
   "cell_type": "code",
   "execution_count": 12,
   "metadata": {},
   "outputs": [],
   "source": [
    "from keras import backend as K\n",
    "def custom_sparse_categorical_accuracy(y_true, y_pred):\n",
    "    return K.cast(K.equal(K.max(y_true, axis=-1),\n",
    "                          K.cast(K.argmax(y_pred, axis=-1), K.floatx())),\n",
    "                  K.floatx())"
   ]
  },
  {
   "cell_type": "markdown",
   "metadata": {},
   "source": [
    "### Defines a function that prints predictions"
   ]
  },
  {
   "cell_type": "code",
   "execution_count": 13,
   "metadata": {},
   "outputs": [],
   "source": [
    "def get_predictions(model, x, N = 100):\n",
    "    \n",
    "    r_nos = []\n",
    "    \n",
    "    for j in range(N):\n",
    "        r_nos.append(random.randint(1, 20) * 100)\n",
    "    \n",
    "    for i in r_nos:\n",
    "        print(\"--------------------------------\")\n",
    "        print(\"Prediction:\")\n",
    "        print(logits_to_text(model.predict(x[i-1:i])[0], english_tokenizer))\n",
    "\n",
    "        print(\"\\nCorrect Transliteration:\")\n",
    "        print(english_words[i-1:i])\n",
    "\n",
    "        print(\"\\nOriginal text:\")\n",
    "        print(bengali_words[i-1:i])\n",
    "\n",
    "        print(\"--------------------------------\")"
   ]
  },
  {
   "cell_type": "markdown",
   "metadata": {},
   "source": [
    "### Hybrid Model\n",
    "A model that incorporates embedding and a bidirectional rnn into one model."
   ]
  },
  {
   "cell_type": "code",
   "execution_count": 14,
   "metadata": {},
   "outputs": [
    {
     "name": "stderr",
     "output_type": "stream",
     "text": [
      "WARNING: Logging before flag parsing goes to stderr.\n",
      "W0629 11:39:05.039391 140610791003904 deprecation_wrapper.py:119] From /usr/local/lib/python3.5/dist-packages/keras/backend/tensorflow_backend.py:74: The name tf.get_default_graph is deprecated. Please use tf.compat.v1.get_default_graph instead.\n",
      "\n",
      "W0629 11:39:05.042596 140610791003904 deprecation_wrapper.py:119] From /usr/local/lib/python3.5/dist-packages/keras/backend/tensorflow_backend.py:517: The name tf.placeholder is deprecated. Please use tf.compat.v1.placeholder instead.\n",
      "\n",
      "W0629 11:39:05.045242 140610791003904 deprecation_wrapper.py:119] From /usr/local/lib/python3.5/dist-packages/keras/backend/tensorflow_backend.py:4138: The name tf.random_uniform is deprecated. Please use tf.random.uniform instead.\n",
      "\n",
      "W0629 11:39:05.773164 140610791003904 deprecation_wrapper.py:119] From /usr/local/lib/python3.5/dist-packages/keras/backend/tensorflow_backend.py:133: The name tf.placeholder_with_default is deprecated. Please use tf.compat.v1.placeholder_with_default instead.\n",
      "\n",
      "W0629 11:39:05.780940 140610791003904 deprecation.py:506] From /usr/local/lib/python3.5/dist-packages/keras/backend/tensorflow_backend.py:3445: calling dropout (from tensorflow.python.ops.nn_ops) with keep_prob is deprecated and will be removed in a future version.\n",
      "Instructions for updating:\n",
      "Please use `rate` instead of `keep_prob`. Rate should be set to `rate = 1 - keep_prob`.\n",
      "W0629 11:39:05.818328 140610791003904 deprecation_wrapper.py:119] From /usr/local/lib/python3.5/dist-packages/keras/optimizers.py:790: The name tf.train.Optimizer is deprecated. Please use tf.compat.v1.train.Optimizer instead.\n",
      "\n",
      "W0629 11:39:05.824459 140610791003904 deprecation_wrapper.py:119] From /usr/local/lib/python3.5/dist-packages/keras/backend/tensorflow_backend.py:3341: The name tf.log is deprecated. Please use tf.math.log instead.\n",
      "\n"
     ]
    },
    {
     "name": "stdout",
     "output_type": "stream",
     "text": [
      "Final Model Loaded\n"
     ]
    },
    {
     "name": "stderr",
     "output_type": "stream",
     "text": [
      "/usr/local/lib/python3.5/dist-packages/keras/engine/sequential.py:110: UserWarning: `Sequential.model` is deprecated. `Sequential` is a subclass of `Model`, you can just use your `Sequential` instance directly.\n",
      "  warnings.warn('`Sequential.model` is deprecated. '\n"
     ]
    }
   ],
   "source": [
    "def model_final(input_shape, output_sequence_length, bengali_vocab_size, english_vocab_size):\n",
    "    \"\"\"\n",
    "    Build and train a model that incorporates embedding, encoder-decoder, and bidirectional RNN on x and y\n",
    "    :param input_shape: Tuple of input shape\n",
    "    :param output_sequence_length: Length of output sequence\n",
    "    :param english_vocab_size: Number of unique English words in the dataset\n",
    "    :param bengali_vocab_size: Number of unique Bengali words in the dataset\n",
    "    :return: Keras model built, but not trained\n",
    "    \"\"\"\n",
    "    \n",
    "    # Hyperparameters\n",
    "    learning_rate = 0.003\n",
    "    \n",
    "    # Build the layers    \n",
    "    model = Sequential()\n",
    "    \n",
    "    # Embedding\n",
    "    model.add(Embedding(bengali_vocab_size, 128, input_length=input_shape[1],\n",
    "                         input_shape=input_shape[1:]))\n",
    "    # Encoder\n",
    "    model.add(Bidirectional(GRU(128)))\n",
    "    model.add(RepeatVector(output_sequence_length))\n",
    "    # Decoder\n",
    "    model.add(Bidirectional(GRU(128, return_sequences=True)))\n",
    "    model.add(TimeDistributed(Dense(512, activation='relu')))\n",
    "    model.add(Dropout(0.5))\n",
    "    model.add(TimeDistributed(Dense(english_vocab_size, activation='softmax')))\n",
    "    model.compile(loss=sparse_categorical_crossentropy,\n",
    "                  optimizer=Adam(learning_rate),\n",
    "                  metrics=[custom_sparse_categorical_accuracy])\n",
    "    return model\n",
    "\n",
    "tests.test_model_final(model_final)\n",
    "\n",
    "print('Final Model Loaded')"
   ]
  },
  {
   "cell_type": "markdown",
   "metadata": {},
   "source": [
    "### Model Evaluation and Creation"
   ]
  },
  {
   "cell_type": "code",
   "execution_count": 15,
   "metadata": {},
   "outputs": [
    {
     "name": "stderr",
     "output_type": "stream",
     "text": [
      "W0629 11:39:06.758867 140610791003904 deprecation.py:323] From /usr/local/lib/python3.5/dist-packages/tensorflow/python/ops/math_grad.py:1250: add_dispatch_support.<locals>.wrapper (from tensorflow.python.ops.array_ops) is deprecated and will be removed in a future version.\n",
      "Instructions for updating:\n",
      "Use tf.where in 2.0, which has the same broadcast rule as np.where\n"
     ]
    },
    {
     "name": "stdout",
     "output_type": "stream",
     "text": [
      "_________________________________________________________________\n",
      "Layer (type)                 Output Shape              Param #   \n",
      "=================================================================\n",
      "embedding_2 (Embedding)      (None, 25, 128)           10240     \n",
      "_________________________________________________________________\n",
      "bidirectional_3 (Bidirection (None, 256)               197376    \n",
      "_________________________________________________________________\n",
      "repeat_vector_2 (RepeatVecto (None, 22, 256)           0         \n",
      "_________________________________________________________________\n",
      "bidirectional_4 (Bidirection (None, 22, 256)           295680    \n",
      "_________________________________________________________________\n",
      "time_distributed_3 (TimeDist (None, 22, 512)           131584    \n",
      "_________________________________________________________________\n",
      "dropout_2 (Dropout)          (None, 22, 512)           0         \n",
      "_________________________________________________________________\n",
      "time_distributed_4 (TimeDist (None, 22, 28)            14364     \n",
      "=================================================================\n",
      "Total params: 649,244\n",
      "Trainable params: 649,244\n",
      "Non-trainable params: 0\n",
      "_________________________________________________________________\n",
      "Train on 2060509 samples, validate on 515128 samples\n",
      "Epoch 1/10\n",
      "2060509/2060509 [==============================] - 292s 142us/step - loss: 0.2424 - custom_sparse_categorical_accuracy: 0.9314 - val_loss: 0.1679 - val_custom_sparse_categorical_accuracy: 0.9546\n",
      "Epoch 2/10\n",
      "2060509/2060509 [==============================] - 290s 141us/step - loss: 0.1415 - custom_sparse_categorical_accuracy: 0.9605 - val_loss: 0.1582 - val_custom_sparse_categorical_accuracy: 0.9574\n",
      "Epoch 3/10\n",
      "2060509/2060509 [==============================] - 290s 141us/step - loss: 0.1331 - custom_sparse_categorical_accuracy: 0.9626 - val_loss: 0.1545 - val_custom_sparse_categorical_accuracy: 0.9578\n",
      "Epoch 4/10\n",
      "2060509/2060509 [==============================] - 290s 141us/step - loss: 0.1290 - custom_sparse_categorical_accuracy: 0.9636 - val_loss: 0.1508 - val_custom_sparse_categorical_accuracy: 0.9585\n",
      "Epoch 5/10\n",
      "2060509/2060509 [==============================] - 289s 140us/step - loss: 0.1264 - custom_sparse_categorical_accuracy: 0.9640 - val_loss: 0.1509 - val_custom_sparse_categorical_accuracy: 0.9586\n",
      "Epoch 6/10\n",
      "2060509/2060509 [==============================] - 288s 140us/step - loss: 0.1245 - custom_sparse_categorical_accuracy: 0.9644 - val_loss: 0.1481 - val_custom_sparse_categorical_accuracy: 0.9585\n",
      "Epoch 7/10\n",
      "2060509/2060509 [==============================] - 289s 140us/step - loss: 0.1234 - custom_sparse_categorical_accuracy: 0.9646 - val_loss: 0.1494 - val_custom_sparse_categorical_accuracy: 0.9587\n",
      "Epoch 8/10\n",
      "2060509/2060509 [==============================] - 291s 141us/step - loss: 0.1220 - custom_sparse_categorical_accuracy: 0.9649 - val_loss: 0.1480 - val_custom_sparse_categorical_accuracy: 0.9593\n",
      "Epoch 9/10\n",
      "2060509/2060509 [==============================] - 292s 142us/step - loss: 0.1211 - custom_sparse_categorical_accuracy: 0.9650 - val_loss: 0.1461 - val_custom_sparse_categorical_accuracy: 0.9594\n",
      "Epoch 10/10\n",
      "2060509/2060509 [==============================] - 292s 142us/step - loss: 0.1205 - custom_sparse_categorical_accuracy: 0.9651 - val_loss: 0.1461 - val_custom_sparse_categorical_accuracy: 0.9594\n"
     ]
    }
   ],
   "source": [
    "def get_model(x, y, x_tk, y_tk):\n",
    "    \"\"\"\n",
    "    Gets predictions using the final model\n",
    "    :param y: Preprocessed English data\n",
    "    :param x: Preprocessed Bengali data\n",
    "    :param y_tk: English tokenizer\n",
    "    :param x_tk: Bengali tokenizer\n",
    "    \"\"\"\n",
    "    # Train neural network using model_final\n",
    "    model = model_final(x.shape,y.shape[1],\n",
    "                        len(x_tk.word_index)+1,\n",
    "                        len(y_tk.word_index)+1)\n",
    "    model.summary()\n",
    "    model.fit(x, y, batch_size=1024, epochs=10, validation_split=0.2)\n",
    "    return model\n",
    "    \n",
    "\n",
    "my_model = get_model(preproc_bengali_words, preproc_english_words, bengali_tokenizer, english_tokenizer)"
   ]
  },
  {
   "cell_type": "code",
   "execution_count": 16,
   "metadata": {},
   "outputs": [
    {
     "name": "stdout",
     "output_type": "stream",
     "text": [
      "--------------------------------\n",
      "Prediction:\n",
      "m u r m u <PAD> <PAD> <PAD> <PAD> <PAD> <PAD> <PAD> <PAD> <PAD> <PAD> <PAD> <PAD> <PAD> <PAD> <PAD> <PAD> <PAD>\n",
      "\n",
      "Correct Transliteration:\n",
      "['M U R M U']\n",
      "\n",
      "Original text:\n",
      "['ম ু র ্ ম ু']\n",
      "--------------------------------\n",
      "--------------------------------\n",
      "Prediction:\n",
      "i n d r a n i <PAD> <PAD> <PAD> <PAD> <PAD> <PAD> <PAD> <PAD> <PAD> <PAD> <PAD> <PAD> <PAD> <PAD> <PAD>\n",
      "\n",
      "Correct Transliteration:\n",
      "['I N D R A N I']\n",
      "\n",
      "Original text:\n",
      "['ই ন ্ দ ্ র া ন ী']\n",
      "--------------------------------\n",
      "--------------------------------\n",
      "Prediction:\n",
      "s o m a <PAD> <PAD> <PAD> <PAD> <PAD> <PAD> <PAD> <PAD> <PAD> <PAD> <PAD> <PAD> <PAD> <PAD> <PAD> <PAD> <PAD> <PAD>\n",
      "\n",
      "Correct Transliteration:\n",
      "['S O M A']\n",
      "\n",
      "Original text:\n",
      "['স ো ম া']\n",
      "--------------------------------\n",
      "--------------------------------\n",
      "Prediction:\n",
      "m a l a k a r <PAD> <PAD> <PAD> <PAD> <PAD> <PAD> <PAD> <PAD> <PAD> <PAD> <PAD> <PAD> <PAD> <PAD> <PAD>\n",
      "\n",
      "Correct Transliteration:\n",
      "['M A L A K A R']\n",
      "\n",
      "Original text:\n",
      "['ম া ল া ক া র']\n",
      "--------------------------------\n",
      "--------------------------------\n",
      "Prediction:\n",
      "m a l a k a r <PAD> <PAD> <PAD> <PAD> <PAD> <PAD> <PAD> <PAD> <PAD> <PAD> <PAD> <PAD> <PAD> <PAD> <PAD>\n",
      "\n",
      "Correct Transliteration:\n",
      "['M A L A K A R']\n",
      "\n",
      "Original text:\n",
      "['ম া ল া ক া র']\n",
      "--------------------------------\n",
      "--------------------------------\n",
      "Prediction:\n",
      "m a l l i k <PAD> <PAD> <PAD> <PAD> <PAD> <PAD> <PAD> <PAD> <PAD> <PAD> <PAD> <PAD> <PAD> <PAD> <PAD> <PAD>\n",
      "\n",
      "Correct Transliteration:\n",
      "['M A L L I K']\n",
      "\n",
      "Original text:\n",
      "['ম ল ্ ল ি ক']\n",
      "--------------------------------\n",
      "--------------------------------\n",
      "Prediction:\n",
      "m u r m u <PAD> <PAD> <PAD> <PAD> <PAD> <PAD> <PAD> <PAD> <PAD> <PAD> <PAD> <PAD> <PAD> <PAD> <PAD> <PAD> <PAD>\n",
      "\n",
      "Correct Transliteration:\n",
      "['M U R M U']\n",
      "\n",
      "Original text:\n",
      "['ম ু র ্ ম ু']\n",
      "--------------------------------\n",
      "--------------------------------\n",
      "Prediction:\n",
      "s h a n t i <PAD> <PAD> <PAD> <PAD> <PAD> <PAD> <PAD> <PAD> <PAD> <PAD> <PAD> <PAD> <PAD> <PAD> <PAD> <PAD>\n",
      "\n",
      "Correct Transliteration:\n",
      "['S H A N T I']\n",
      "\n",
      "Original text:\n",
      "['শ া ন ্ ত ি']\n",
      "--------------------------------\n",
      "--------------------------------\n",
      "Prediction:\n",
      "d e o g h a r i y <PAD> <PAD> <PAD> <PAD> <PAD> <PAD> <PAD> <PAD> <PAD> <PAD> <PAD> <PAD> <PAD>\n",
      "\n",
      "Correct Transliteration:\n",
      "['D E O G H A R I Y A']\n",
      "\n",
      "Original text:\n",
      "['দ ে ও ঘ র ি য় া']\n",
      "--------------------------------\n",
      "--------------------------------\n",
      "Prediction:\n",
      "m a l l i k <PAD> <PAD> <PAD> <PAD> <PAD> <PAD> <PAD> <PAD> <PAD> <PAD> <PAD> <PAD> <PAD> <PAD> <PAD> <PAD>\n",
      "\n",
      "Correct Transliteration:\n",
      "['M A L L I K']\n",
      "\n",
      "Original text:\n",
      "['ম ল ্ ল ি ক']\n",
      "--------------------------------\n"
     ]
    }
   ],
   "source": [
    "get_predictions(my_model, x = preproc_bengali_words, N = 10)"
   ]
  },
  {
   "cell_type": "markdown",
   "metadata": {},
   "source": [
    "### Saving the trained model"
   ]
  },
  {
   "cell_type": "code",
   "execution_count": 17,
   "metadata": {},
   "outputs": [],
   "source": [
    "my_model.save('transliteration_model.h5')"
   ]
  }
 ],
 "metadata": {
  "kernelspec": {
   "display_name": "Python 3",
   "language": "python",
   "name": "python3"
  },
  "language_info": {
   "codemirror_mode": {
    "name": "ipython",
    "version": 3
   },
   "file_extension": ".py",
   "mimetype": "text/x-python",
   "name": "python",
   "nbconvert_exporter": "python",
   "pygments_lexer": "ipython3",
   "version": "3.6.8"
  }
 },
 "nbformat": 4,
 "nbformat_minor": 2
}
